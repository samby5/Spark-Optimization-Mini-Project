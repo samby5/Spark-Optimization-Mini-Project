{
 "cells": [
  {
   "cell_type": "code",
   "execution_count": 30,
   "id": "7a91a9fc",
   "metadata": {},
   "outputs": [
    {
     "name": "stdout",
     "output_type": "stream",
     "text": [
      "C:\\Users\\samy8\n",
      "C:\\Users\\samy8\\Desktop\\Work Lab\\SpringBoard\\github\\Spark-Optimization-Mini-Project\\Optimization\\Optimization\n",
      "110714\n",
      "86936\n",
      "+-----------+--------------------+--------------------+-----+---+\n",
      "|question_id|       creation_date|               title|month|cnt|\n",
      "+-----------+--------------------+--------------------+-----+---+\n",
      "|     155989|2014-12-31 20:59:...|Frost bubble form...|    1|  1|\n",
      "|     155989|2014-12-31 20:59:...|Frost bubble form...|    2|  1|\n",
      "|     155990|2014-12-31 21:51:...|The abstract spac...|    1|  2|\n",
      "|     155992|2014-12-31 22:44:...|centrifugal force...|    1|  1|\n",
      "|     155993|2014-12-31 22:56:...|How can I estimat...|    1|  1|\n",
      "|     155995|2015-01-01 00:16:...|Why should a solu...|    1|  3|\n",
      "|     155996|2015-01-01 01:06:...|Why do we assume ...|    1|  2|\n",
      "|     155996|2015-01-01 01:06:...|Why do we assume ...|    2|  1|\n",
      "|     155996|2015-01-01 01:06:...|Why do we assume ...|   11|  1|\n",
      "|     155997|2015-01-01 01:26:...|Why do square sha...|    1|  3|\n",
      "|     155999|2015-01-01 02:01:...|Diagonalizability...|    1|  1|\n",
      "|     156008|2015-01-01 03:48:...|Capturing a light...|    1|  2|\n",
      "|     156008|2015-01-01 03:48:...|Capturing a light...|   11|  1|\n",
      "|     156016|2015-01-01 05:31:...|The interference ...|    1|  1|\n",
      "|     156020|2015-01-01 06:19:...|What is going on ...|    1|  1|\n",
      "|     156021|2015-01-01 06:21:...|How to calculate ...|    2|  1|\n",
      "|     156022|2015-01-01 06:55:...|Advice on Major S...|    1|  1|\n",
      "|     156025|2015-01-01 07:32:...|Deriving the Cano...|    1|  1|\n",
      "|     156026|2015-01-01 07:49:...|Does Bell's inequ...|    1|  3|\n",
      "|     156027|2015-01-01 07:49:...|Deriving X atom f...|    1|  1|\n",
      "+-----------+--------------------+--------------------+-----+---+\n",
      "only showing top 20 rows\n",
      "\n",
      "Wall time: 1.82 s\n"
     ]
    }
   ],
   "source": [
    "%%time\n",
    "from pyspark.sql import SparkSession\n",
    "from pyspark.sql.functions import col, count, month\n",
    "import os\n",
    "spark = SparkSession.builder.appName('Optimize I').getOrCreate()\n",
    "base_path = os.getcwd()\n",
    "print(base_path)\n",
    "project_path = r'C:\\Users\\samy8\\Desktop\\Work Lab\\SpringBoard\\github\\Spark-Optimization-Mini-Project\\Optimization\\Optimization'#('/').join(base_path.split('/')[0:-3]) \n",
    "print (project_path)\n",
    "\n",
    "answers_input_path = os.path.join(project_path, 'data/answers')\n",
    "questions_input_path = os.path.join(project_path, 'data/questions')\n",
    "\n",
    "answersDF = spark.read.option('path', answers_input_path).load()\n",
    "questionsDF = spark.read.option('path', questions_input_path).load()\n",
    "print(answersDF.count())\n",
    "print(questionsDF.count())"
   ]
  },
  {
   "cell_type": "code",
   "execution_count": 45,
   "id": "bb9596ad",
   "metadata": {},
   "outputs": [
    {
     "name": "stdout",
     "output_type": "stream",
     "text": [
      "+-----------+--------------------+--------------------+-----+---+\n",
      "|question_id|       creation_date|               title|month|cnt|\n",
      "+-----------+--------------------+--------------------+-----+---+\n",
      "|     155989|2014-12-31 20:59:...|Frost bubble form...|    1|  1|\n",
      "|     155989|2014-12-31 20:59:...|Frost bubble form...|    2|  1|\n",
      "|     155990|2014-12-31 21:51:...|The abstract spac...|    1|  2|\n",
      "|     155992|2014-12-31 22:44:...|centrifugal force...|    1|  1|\n",
      "|     155993|2014-12-31 22:56:...|How can I estimat...|    1|  1|\n",
      "|     155995|2015-01-01 00:16:...|Why should a solu...|    1|  3|\n",
      "|     155996|2015-01-01 01:06:...|Why do we assume ...|    1|  2|\n",
      "|     155996|2015-01-01 01:06:...|Why do we assume ...|    2|  1|\n",
      "|     155996|2015-01-01 01:06:...|Why do we assume ...|   11|  1|\n",
      "|     155997|2015-01-01 01:26:...|Why do square sha...|    1|  3|\n",
      "|     155999|2015-01-01 02:01:...|Diagonalizability...|    1|  1|\n",
      "|     156008|2015-01-01 03:48:...|Capturing a light...|    1|  2|\n",
      "|     156008|2015-01-01 03:48:...|Capturing a light...|   11|  1|\n",
      "|     156016|2015-01-01 05:31:...|The interference ...|    1|  1|\n",
      "|     156020|2015-01-01 06:19:...|What is going on ...|    1|  1|\n",
      "|     156021|2015-01-01 06:21:...|How to calculate ...|    2|  1|\n",
      "|     156022|2015-01-01 06:55:...|Advice on Major S...|    1|  1|\n",
      "|     156025|2015-01-01 07:32:...|Deriving the Cano...|    1|  1|\n",
      "|     156026|2015-01-01 07:49:...|Does Bell's inequ...|    1|  3|\n",
      "|     156027|2015-01-01 07:49:...|Deriving X atom f...|    1|  1|\n",
      "+-----------+--------------------+--------------------+-----+---+\n",
      "only showing top 20 rows\n",
      "\n",
      "Wall time: 1.05 s\n"
     ]
    }
   ],
   "source": [
    "%%time\n",
    "#original\n",
    "answers_month = answersDF.withColumn('month', month('creation_date')).groupBy('question_id', 'month').agg(count('*').alias('cnt'))\n",
    "resultDF = questionsDF.join(answers_month, 'question_id').select('question_id', 'creation_date', 'title', 'month', 'cnt')\n",
    "\n",
    "resultDF.orderBy('question_id', 'month').show()"
   ]
  },
  {
   "cell_type": "code",
   "execution_count": 48,
   "id": "58eb4ff5",
   "metadata": {},
   "outputs": [
    {
     "name": "stdout",
     "output_type": "stream",
     "text": [
      "+-----------+--------------------+--------------------+-----+---+\n",
      "|question_id|       creation_date|               title|month|cnt|\n",
      "+-----------+--------------------+--------------------+-----+---+\n",
      "|     155989|2014-12-31 20:59:...|Frost bubble form...|    1|  1|\n",
      "|     155989|2014-12-31 20:59:...|Frost bubble form...|    2|  1|\n",
      "|     155990|2014-12-31 21:51:...|The abstract spac...|    1|  2|\n",
      "|     155992|2014-12-31 22:44:...|centrifugal force...|    1|  1|\n",
      "|     155993|2014-12-31 22:56:...|How can I estimat...|    1|  1|\n",
      "|     155995|2015-01-01 00:16:...|Why should a solu...|    1|  3|\n",
      "|     155996|2015-01-01 01:06:...|Why do we assume ...|    1|  2|\n",
      "|     155996|2015-01-01 01:06:...|Why do we assume ...|    2|  1|\n",
      "|     155996|2015-01-01 01:06:...|Why do we assume ...|   11|  1|\n",
      "|     155997|2015-01-01 01:26:...|Why do square sha...|    1|  3|\n",
      "|     155999|2015-01-01 02:01:...|Diagonalizability...|    1|  1|\n",
      "|     156008|2015-01-01 03:48:...|Capturing a light...|    1|  2|\n",
      "|     156008|2015-01-01 03:48:...|Capturing a light...|   11|  1|\n",
      "|     156016|2015-01-01 05:31:...|The interference ...|    1|  1|\n",
      "|     156020|2015-01-01 06:19:...|What is going on ...|    1|  1|\n",
      "|     156021|2015-01-01 06:21:...|How to calculate ...|    2|  1|\n",
      "|     156022|2015-01-01 06:55:...|Advice on Major S...|    1|  1|\n",
      "|     156025|2015-01-01 07:32:...|Deriving the Cano...|    1|  1|\n",
      "|     156026|2015-01-01 07:49:...|Does Bell's inequ...|    1|  3|\n",
      "|     156027|2015-01-01 07:49:...|Deriving X atom f...|    1|  1|\n",
      "+-----------+--------------------+--------------------+-----+---+\n",
      "only showing top 20 rows\n",
      "\n",
      "Wall time: 806 ms\n"
     ]
    }
   ],
   "source": [
    "%%time\n",
    "#cache option\n",
    "answers_month = answersDF.withColumn('month', month('creation_date')).groupBy('question_id', 'month').agg(count('*').alias('cnt'))\n",
    "\n",
    "answers_month.cache()\n",
    "\n",
    "resultDF = questionsDF.join(broadcast(answers_month), 'question_id').select('question_id', 'creation_date', 'title', 'month', 'cnt')\n",
    "\n",
    "resultDF.orderBy('question_id', 'month').show()"
   ]
  },
  {
   "cell_type": "code",
   "execution_count": 46,
   "id": "21af682b",
   "metadata": {},
   "outputs": [
    {
     "name": "stdout",
     "output_type": "stream",
     "text": [
      "+-----------+--------------------+--------------------+-----+---+\n",
      "|question_id|       creation_date|               title|month|cnt|\n",
      "+-----------+--------------------+--------------------+-----+---+\n",
      "|     155989|2014-12-31 20:59:...|Frost bubble form...|    1|  1|\n",
      "|     155989|2014-12-31 20:59:...|Frost bubble form...|    2|  1|\n",
      "|     155990|2014-12-31 21:51:...|The abstract spac...|    1|  2|\n",
      "|     155992|2014-12-31 22:44:...|centrifugal force...|    1|  1|\n",
      "|     155993|2014-12-31 22:56:...|How can I estimat...|    1|  1|\n",
      "|     155995|2015-01-01 00:16:...|Why should a solu...|    1|  3|\n",
      "|     155996|2015-01-01 01:06:...|Why do we assume ...|    1|  2|\n",
      "|     155996|2015-01-01 01:06:...|Why do we assume ...|    2|  1|\n",
      "|     155996|2015-01-01 01:06:...|Why do we assume ...|   11|  1|\n",
      "|     155997|2015-01-01 01:26:...|Why do square sha...|    1|  3|\n",
      "|     155999|2015-01-01 02:01:...|Diagonalizability...|    1|  1|\n",
      "|     156008|2015-01-01 03:48:...|Capturing a light...|    1|  2|\n",
      "|     156008|2015-01-01 03:48:...|Capturing a light...|   11|  1|\n",
      "|     156016|2015-01-01 05:31:...|The interference ...|    1|  1|\n",
      "|     156020|2015-01-01 06:19:...|What is going on ...|    1|  1|\n",
      "|     156021|2015-01-01 06:21:...|How to calculate ...|    2|  1|\n",
      "|     156022|2015-01-01 06:55:...|Advice on Major S...|    1|  1|\n",
      "|     156025|2015-01-01 07:32:...|Deriving the Cano...|    1|  1|\n",
      "|     156026|2015-01-01 07:49:...|Does Bell's inequ...|    1|  3|\n",
      "|     156027|2015-01-01 07:49:...|Deriving X atom f...|    1|  1|\n",
      "+-----------+--------------------+--------------------+-----+---+\n",
      "only showing top 20 rows\n",
      "\n",
      "Wall time: 1.43 s\n"
     ]
    }
   ],
   "source": [
    "%%time\n",
    "\n",
    "#switch join order\n",
    "\n",
    "answers_month = answersDF.withColumn('month', month('creation_date')).groupBy('question_id', 'month').agg(count('*').alias('cnt'))\n",
    "\n",
    "resultDF = answers_month.join(questionsDF, 'question_id').select('question_id', 'creation_date', 'title', 'month', 'cnt')\n",
    "\n",
    "resultDF.orderBy('question_id', 'month').show()"
   ]
  },
  {
   "cell_type": "code",
   "execution_count": 41,
   "id": "9247a494",
   "metadata": {},
   "outputs": [
    {
     "name": "stdout",
     "output_type": "stream",
     "text": [
      "1\n"
     ]
    }
   ],
   "source": [
    "sc = spark._jsc.sc() \n",
    "n_workers =  len([executor.host() for executor in sc.statusTracker().getExecutorInfos() ]) \n",
    "\n",
    "print(n_workers)"
   ]
  }
 ],
 "metadata": {
  "kernelspec": {
   "display_name": "Python 3",
   "language": "python",
   "name": "python3"
  },
  "language_info": {
   "codemirror_mode": {
    "name": "ipython",
    "version": 3
   },
   "file_extension": ".py",
   "mimetype": "text/x-python",
   "name": "python",
   "nbconvert_exporter": "python",
   "pygments_lexer": "ipython3",
   "version": "3.8.8"
  }
 },
 "nbformat": 4,
 "nbformat_minor": 5
}
